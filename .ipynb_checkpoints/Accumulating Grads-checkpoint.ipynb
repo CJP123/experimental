{
 "cells": [
  {
   "cell_type": "code",
   "execution_count": null,
   "metadata": {},
   "outputs": [],
   "source": [
    "from fastai.vision import *"
   ]
  },
  {
   "cell_type": "code",
   "execution_count": null,
   "metadata": {},
   "outputs": [],
   "source": [
    "def seed_everything(seed):\n",
    "    random.seed(seed)\n",
    "    os.environ['PYTHONHASHSEED'] = str(seed)\n",
    "    np.random.seed(seed)\n",
    "    torch.manual_seed(seed)\n",
    "    torch.cuda.manual_seed(seed)\n",
    "    torch.backends.cudnn.deterministic = True\n",
    "seed_everything(42)"
   ]
  },
  {
   "cell_type": "markdown",
   "metadata": {},
   "source": [
    "### No Acc"
   ]
  },
  {
   "cell_type": "code",
   "execution_count": null,
   "metadata": {},
   "outputs": [],
   "source": [
    "path = untar_data(URLs.MNIST_SAMPLE)\n",
    "data = ImageDataBunch.from_folder(path)\n",
    "learn = create_cnn(data, models.vgg16_bn, metrics=accuracy)\n",
    "learn.fit(1)"
   ]
  },
  {
   "cell_type": "code",
   "execution_count": null,
   "metadata": {},
   "outputs": [],
   "source": [
    "data.batch_size"
   ]
  },
  {
   "cell_type": "markdown",
   "metadata": {},
   "source": [
    "### Naive Acc "
   ]
  },
  {
   "cell_type": "code",
   "execution_count": null,
   "metadata": {},
   "outputs": [],
   "source": [
    "data = ImageDataBunch.from_folder(path, bs=2)\n",
    "learn = create_cnn(data, models.vgg16_bn, metrics=accuracy,\n",
    "                   callback_fns=[partial(AccumulateStepper, n_step=32)])\n",
    "learn.loss_func = CrossEntropyFlat(reduction='sum')\n",
    "learn.fit(1)"
   ]
  },
  {
   "cell_type": "markdown",
   "metadata": {},
   "source": [
    "### Acc + BnFreeze"
   ]
  },
  {
   "cell_type": "code",
   "execution_count": null,
   "metadata": {},
   "outputs": [],
   "source": [
    "data = ImageDataBunch.from_folder(path, bs=2)\n",
    "learn = create_cnn(data, models.vgg16_bn, metrics=accuracy,\n",
    "                   callback_fns=[partial(AccumulateStepper, n_step=32), BnFreeze])\n",
    "learn.loss_func = CrossEntropyFlat(reduction='sum')\n",
    "learn.fit(1)"
   ]
  },
  {
   "cell_type": "markdown",
   "metadata": {},
   "source": [
    "### Increase Momentum "
   ]
  },
  {
   "cell_type": "code",
   "execution_count": null,
   "metadata": {},
   "outputs": [],
   "source": [
    "def set_bn_mom(m:nn.Module, mom=0.9):\n",
    "    \"Set bn layers in eval mode for all recursive children of `m`.\"\n",
    "    for l in m.children():\n",
    "        if isinstance(l, bn_types):\n",
    "            l.momentum = mom\n",
    "        set_bn_mom(l, mom)"
   ]
  },
  {
   "cell_type": "code",
   "execution_count": null,
   "metadata": {},
   "outputs": [],
   "source": [
    "data = ImageDataBunch.from_folder(path, bs=2)\n",
    "learn = create_cnn(data, models.vgg16_bn, metrics=accuracy,\n",
    "                   callback_fns=[partial(AccumulateStepper, n_step=32)])\n",
    "learn.loss_func = CrossEntropyFlat(reduction='sum')\n",
    "set_bn_mom(learn.model, mom=0.9)\n",
    "learn.fit(1)"
   ]
  },
  {
   "cell_type": "markdown",
   "metadata": {},
   "source": [
    "### Decrease Momentum"
   ]
  },
  {
   "cell_type": "code",
   "execution_count": null,
   "metadata": {},
   "outputs": [],
   "source": [
    "data = ImageDataBunch.from_folder(path, bs=2)\n",
    "learn = create_cnn(data, models.vgg16_bn, metrics=accuracy,\n",
    "                   callback_fns=[partial(AccumulateStepper, n_step=32)])\n",
    "learn.loss_func = CrossEntropyFlat(reduction='sum')\n",
    "set_bn_mom(learn.model, mom=0.01)\n",
    "learn.fit(1)"
   ]
  },
  {
   "cell_type": "markdown",
   "metadata": {},
   "source": [
    "### InstanceNorm"
   ]
  },
  {
   "cell_type": "code",
   "execution_count": null,
   "metadata": {},
   "outputs": [],
   "source": [
    "def bn2instance(bn):\n",
    "    if isinstance(bn, nn.BatchNorm1d):\n",
    "        inst = nn.InstanceNorm1d(bn.num_features, affine=True)\n",
    "    elif isinstance(bn, nn.BatchNorm2d):\n",
    "        inst = nn.InstanceNorm2d(bn.num_features, affine=True)\n",
    "    elif isinstance(bn, nn.BatchNorm3d):\n",
    "        inst = nn.InstanceNorm3d(bn.num_features, affine=True)\n",
    "    \n",
    "    inst.weight = bn.weight\n",
    "    inst.bias = bn.bias\n",
    "    inst.running_mean = nn.Parameter(bn.running_mean, requires_grad=False)\n",
    "    inst.running_var = nn.Parameter(bn.running_var, requires_grad=False)\n",
    "    inst.momentum = bn.momentum\n",
    "    inst.eps = bn.eps\n",
    "    return (inst).to(bn.weight.device)"
   ]
  },
  {
   "cell_type": "code",
   "execution_count": null,
   "metadata": {},
   "outputs": [],
   "source": [
    "def convert_bn(list_mods, func=bn2instance):\n",
    "    for i in range(len(list_mods)):\n",
    "        if isinstance(list_mods[i], bn_types):\n",
    "            list_mods[i] = func(list_mods[i])\n",
    "        elif list_mods[i].__class__.__name__ in (\"Sequential\", \"BasicBlock\"):\n",
    "            list_mods[i] = nn.Sequential(*convert_bn(list(list_mods[i].children()), func))\n",
    "    return list_mods"
   ]
  },
  {
   "cell_type": "code",
   "execution_count": null,
   "metadata": {},
   "outputs": [],
   "source": [
    "data = ImageDataBunch.from_folder(path, bs=2)\n",
    "learn = create_cnn(data, models.vgg16_bn, metrics=accuracy,\n",
    "                   callback_fns=[partial(AccumulateStepper, n_step=32)])\n",
    "learn.loss_func = CrossEntropyFlat(reduction='sum')"
   ]
  },
  {
   "cell_type": "code",
   "execution_count": null,
   "metadata": {
    "scrolled": true
   },
   "outputs": [],
   "source": [
    "learn.model = nn.Sequential(*convert_bn(list(learn.model.children()), bn2instance))"
   ]
  },
  {
   "cell_type": "code",
   "execution_count": null,
   "metadata": {},
   "outputs": [],
   "source": [
    "learn.freeze()"
   ]
  },
  {
   "cell_type": "code",
   "execution_count": null,
   "metadata": {},
   "outputs": [],
   "source": [
    "learn.lr_find()"
   ]
  },
  {
   "cell_type": "code",
   "execution_count": null,
   "metadata": {},
   "outputs": [],
   "source": [
    "learn.fit(1)"
   ]
  },
  {
   "cell_type": "markdown",
   "metadata": {},
   "source": [
    "### GroupNorm"
   ]
  },
  {
   "cell_type": "code",
   "execution_count": 172,
   "metadata": {},
   "outputs": [],
   "source": [
    "def bn2group(bn):\n",
    "    groupnorm = nn.GroupNorm(4, bn.num_features, affine=True)\n",
    "    groupnorm.weight = bn.weight\n",
    "    groupnorm.bias = bn.bias\n",
    "    groupnorm.running_mean = nn.Parameter(bn.running_mean, requires_grad=False)\n",
    "    groupnorm.running_var = nn.Parameter(bn.running_var, requires_grad=False)\n",
    "    groupnorm.momentum = bn.momentum\n",
    "    groupnorm.eps = bn.eps\n",
    "    return (groupnorm).to(bn.weight.device)"
   ]
  },
  {
   "cell_type": "code",
   "execution_count": 173,
   "metadata": {},
   "outputs": [],
   "source": [
    "data = ImageDataBunch.from_folder(path, bs=2)\n",
    "learn = create_cnn(data, models.vgg16_bn, metrics=accuracy,\n",
    "                   callback_fns=[partial(AccumulateStepper, n_step=32)])\n",
    "learn.loss_func = CrossEntropyFlat(reduction='sum')"
   ]
  },
  {
   "cell_type": "code",
   "execution_count": 174,
   "metadata": {},
   "outputs": [],
   "source": [
    "learn.model = nn.Sequential(*convert_bn(list(learn.model.children()), bn2group))"
   ]
  },
  {
   "cell_type": "code",
   "execution_count": 175,
   "metadata": {},
   "outputs": [],
   "source": [
    "learn.freeze()"
   ]
  },
  {
   "cell_type": "code",
   "execution_count": 176,
   "metadata": {},
   "outputs": [
    {
     "data": {
      "text/html": [
       "Total time: 01:00 <p><table style='width:375px; margin-bottom:10px'>\n",
       "  <tr>\n",
       "    <th>epoch</th>\n",
       "    <th>train_loss</th>\n",
       "    <th>valid_loss</th>\n",
       "    <th>accuracy</th>\n",
       "    <th>time</th>\n",
       "  </tr>\n",
       "  <tr>\n",
       "    <th>1</th>\n",
       "    <th>0.070629</th>\n",
       "    <th>0.093760</th>\n",
       "    <th>0.985770</th>\n",
       "    <th>01:00</th>\n",
       "  </tr>\n",
       "</table>\n"
      ],
      "text/plain": [
       "<IPython.core.display.HTML object>"
      ]
     },
     "metadata": {},
     "output_type": "display_data"
    }
   ],
   "source": [
    "learn.fit(1)"
   ]
  },
  {
   "cell_type": "code",
   "execution_count": null,
   "metadata": {},
   "outputs": [],
   "source": []
  }
 ],
 "metadata": {
  "kernelspec": {
   "display_name": "Python 3",
   "language": "python",
   "name": "python3"
  },
  "language_info": {
   "codemirror_mode": {
    "name": "ipython",
    "version": 3
   },
   "file_extension": ".py",
   "mimetype": "text/x-python",
   "name": "python",
   "nbconvert_exporter": "python",
   "pygments_lexer": "ipython3",
   "version": "3.7.0"
  }
 },
 "nbformat": 4,
 "nbformat_minor": 2
}
